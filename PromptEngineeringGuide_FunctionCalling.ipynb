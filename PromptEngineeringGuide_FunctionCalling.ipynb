{
  "nbformat": 4,
  "nbformat_minor": 0,
  "metadata": {
    "colab": {
      "provenance": [],
      "authorship_tag": "ABX9TyMH4d7rg+hHEZy+sU7xVt+7",
      "include_colab_link": true
    },
    "kernelspec": {
      "name": "python3",
      "display_name": "Python 3"
    },
    "language_info": {
      "name": "python"
    }
  },
  "cells": [
    {
      "cell_type": "markdown",
      "metadata": {
        "id": "view-in-github",
        "colab_type": "text"
      },
      "source": [
        "<a href=\"https://colab.research.google.com/github/ahmeda335/FunctionCalling_OpenAIAPI/blob/main/PromptEngineeringGuide_FunctionCalling.ipynb\" target=\"_parent\"><img src=\"https://colab.research.google.com/assets/colab-badge.svg\" alt=\"Open In Colab\"/></a>"
      ]
    },
    {
      "cell_type": "markdown",
      "source": [
        "## This is a starter kit for using ***Function Calling*** from OpenAI API."
      ],
      "metadata": {
        "id": "1bRd7fQdlQkl"
      }
    },
    {
      "cell_type": "markdown",
      "source": [
        "### Installing Required Packages and Libraries 🌐"
      ],
      "metadata": {
        "id": "Zj73OJrFInOz"
      }
    },
    {
      "cell_type": "code",
      "source": [
        "!pip install termcolor --quiet\n",
        "!pip install tenacity --quiet\n",
        "!pip install openai --quiet"
      ],
      "metadata": {
        "collapsed": true,
        "id": "7M7RCFwtx6mF"
      },
      "execution_count": null,
      "outputs": []
    },
    {
      "cell_type": "markdown",
      "source": [
        "💫 Put your API key in colab Secrets Section then give it the the os environment with the name \"OPENAI_API_KEY\", as it is the default name for OpenAI API.\n",
        "\n",
        "💫 If You want to use another name you can do put change the default then..<br>\n",
        "---->  client = OpenAI( api_key=os.environ.get(\"CUSTOM_ENV_NAME\"), )\n",
        "\n",
        "💫 Initialize the model you want to use."
      ],
      "metadata": {
        "id": "sC6slLExJKIE"
      }
    },
    {
      "cell_type": "code",
      "source": [
        "from openai import OpenAI\n",
        "from tenacity import retry, wait_random_exponential, stop_after_attempt\n",
        "from termcolor import colored\n",
        "import json\n",
        "from google.colab import userdata\n",
        "import os\n",
        "\n",
        "key = userdata.get('OPENAI-API-KEY')\n",
        "os.environ['OPENAI_API_KEY'] = key\n",
        "\n",
        "client = OpenAI()\n",
        "model = \"gpt-4o-mini\"  # TODO: Searching for free models to use. \"Nothing till now 🥲\""
      ],
      "metadata": {
        "id": "CrxkoMBFyLa_"
      },
      "execution_count": null,
      "outputs": []
    },
    {
      "cell_type": "markdown",
      "source": [
        "Initializing the functions to be chosen using the model 🎯"
      ],
      "metadata": {
        "id": "yD1iok5NObU4"
      }
    },
    {
      "cell_type": "code",
      "execution_count": null,
      "metadata": {
        "id": "ZZI2r-VmubzS"
      },
      "outputs": [],
      "source": [
        "def downloading_video(video_url, quality):\n",
        "  print(\"Downloading video from\", video_url, \"with quality\", quality)\n",
        "  return\n",
        "\n",
        "\n",
        "def downloading_audio(audio_url, quality):\n",
        "  print(\"Downloading audio from\", audio_url, \"with quality\", quality, \"only audio\")\n",
        "  return\n",
        "\n",
        "\n",
        "def downloading_playlist_video(playlist_url, qulaity):\n",
        "  print(\"Downloading playlist from\", playlist_url, \"with quality\", qulaity)\n",
        "  return\n",
        "\n",
        "\n",
        "def downloading_playlist_audio(playlist_url, qulaity):\n",
        "  print(\"Downloading playlist from\", playlist_url, \"with quality\", qulaity, \"only audio\")\n",
        "  return\n"
      ]
    },
    {
      "cell_type": "markdown",
      "source": [
        "### The main function to connect the model to the user 🎗️"
      ],
      "metadata": {
        "id": "E8bJ-_uYPA8N"
      }
    },
    {
      "cell_type": "code",
      "source": [
        "@retry(wait=wait_random_exponential(multiplier=1, max=30), stop=stop_after_attempt(3)) # This line to retry the function each random time between 1 and 40 seconds with maximum 3 attempts. To increase the Robustness of the code.\n",
        "def chat_completion_request(messages, tools=None, tool_choice=None, model=model):\n",
        "    try:\n",
        "        response = client.chat.completions.create(\n",
        "            model=model,\n",
        "            messages=messages,\n",
        "            tools=tools,\n",
        "            tool_choice=tool_choice,\n",
        "        )\n",
        "        return response\n",
        "    except Exception as e:\n",
        "        print(\"Unable to generate ChatCompletion response\")\n",
        "        print(f\"Exception: {e}\")\n",
        "        return e"
      ],
      "metadata": {
        "id": "ku-c_ggfxARN"
      },
      "execution_count": null,
      "outputs": []
    },
    {
      "cell_type": "markdown",
      "source": [
        "💫 ( tools ) is used to descripe the functions and its parameters to the model such that it can choose from them depending on the user demand."
      ],
      "metadata": {
        "id": "pn9Wu6bESc_7"
      }
    },
    {
      "cell_type": "code",
      "source": [
        "tools = [\n",
        "    {\n",
        "        \"type\": \"function\",\n",
        "        \"function\": {\n",
        "            \"name\": \"downloading_video\",\n",
        "            \"description\": \"This function is used to download a single video from youtube with a chosen quality from the user and the url of the video\",\n",
        "            \"parameters\": {\n",
        "                \"type\": \"object\",\n",
        "                \"properties\": {\n",
        "                    \"video_url\": {\n",
        "                        \"type\": \"string\",\n",
        "                        \"description\": \"The url of the video\",\n",
        "                    },\n",
        "                    \"quality\": {\n",
        "                        \"type\": \"string\",\n",
        "                        \"description\": \"The quality of the vidio, e.g. '480p'\",\n",
        "                    },\n",
        "                },\n",
        "                \"required\": [\"video_url\", \"quality\"],\n",
        "                \"additionalProperties\": False,\n",
        "            },\n",
        "        }\n",
        "    },\n",
        "    {\n",
        "        \"type\": \"function\",\n",
        "        \"function\": {\n",
        "            \"name\": \"downloading_audio\",\n",
        "            \"description\": \"This function is used to download a single audio from youtube with a chosen quality from the user and the url of the audio\",\n",
        "            \"parameters\": {\n",
        "                \"type\": \"object\",\n",
        "                \"properties\": {\n",
        "                    \"audio_url\": {\n",
        "                        \"type\": \"string\",\n",
        "                        \"description\": \"The url of the audio\",\n",
        "                    },\n",
        "                    \"quality\": {\n",
        "                        \"type\": \"string\",\n",
        "                        \"description\": \"The quality of the audio\",\n",
        "                    },\n",
        "                },\n",
        "                \"required\": [\"audio_url\", \"quality\"],\n",
        "                \"additionalProperties\": False,\n",
        "            },\n",
        "        }\n",
        "    },\n",
        "    {\n",
        "        \"type\": \"function\",\n",
        "        \"function\": {\n",
        "            \"name\": \"downloading_playlist_video\",\n",
        "            \"description\": \"This function is used to download a playlist of videos from youtube with a chosen quality from the user and the url of the playlist\",\n",
        "            \"parameters\": {\n",
        "                \"type\": \"object\",\n",
        "                \"properties\": {\n",
        "                    \"playlist_url\": {\n",
        "                        \"type\": \"string\",\n",
        "                        \"description\": \"The url of the playlist\",\n",
        "                    },\n",
        "                    \"quality\": {\n",
        "                        \"type\": \"string\",\n",
        "                        \"description\": \"The quality of the playlist videos, e.g. '480p'\",\n",
        "                    },\n",
        "                },\n",
        "                \"required\": [\"playlist_url\", \"quality\"],\n",
        "                \"additionalProperties\": False,\n",
        "            },\n",
        "        }\n",
        "    },\n",
        "    {\n",
        "        \"type\": \"function\",\n",
        "        \"function\": {\n",
        "            \"name\": \"downloading_playlist_audio\",\n",
        "            \"description\": \"This function is used to download a playlist of audios from youtube with a chosen quality from the user and the url of the playlist\",\n",
        "            \"parameters\": {\n",
        "                \"type\": \"object\",\n",
        "                \"properties\": {\n",
        "                    \"playlist_url\": {\n",
        "                        \"type\": \"string\",\n",
        "                        \"description\": \"The url of the playlist\",\n",
        "                    },\n",
        "                    \"quality\": {\n",
        "                        \"type\": \"string\",\n",
        "                        \"description\": \"The quality of the playlist audios\",\n",
        "                    },\n",
        "                },\n",
        "                \"required\": [\"playlist_url\", \"quality\"],\n",
        "                \"additionalProperties\": False,\n",
        "            },\n",
        "        }\n",
        "    },\n",
        "]"
      ],
      "metadata": {
        "id": "i7oPG2jCujGV"
      },
      "execution_count": null,
      "outputs": []
    },
    {
      "cell_type": "markdown",
      "source": [
        " 💫 This lovely pretty_print_conversation function from ***Colin Jarvis*** in the OpenAI CookBook changes the color of the text depending on who is speaking: the user, the system, or the assistant. And also depending on the response of the assistant 🫡\n",
        "\n",
        "\n",
        "\n"
      ],
      "metadata": {
        "id": "8Zmph28GTzR6"
      }
    },
    {
      "cell_type": "code",
      "source": [
        "def pretty_print_conversation(messages):\n",
        "    role_to_color = {\n",
        "        \"system\": \"red\",\n",
        "        \"user\": \"green\",\n",
        "        \"assistant\": \"blue\",\n",
        "        \"function\": \"magenta\",\n",
        "    }\n",
        "\n",
        "    for message in messages:\n",
        "        if message[\"role\"] == \"system\":\n",
        "            print(colored(f\"system: {message['content']}\\n\", role_to_color[message[\"role\"]]))\n",
        "        elif message[\"role\"] == \"user\":\n",
        "            print(colored(f\"user: {message['content']}\\n\", role_to_color[message[\"role\"]]))\n",
        "        elif message[\"role\"] == \"assistant\" and message.get(\"function_call\"):\n",
        "            print(colored(f\"assistant: {message['function_call']}\\n\", role_to_color[message[\"role\"]]))\n",
        "        elif message[\"role\"] == \"assistant\" and not message.get(\"function_call\"):\n",
        "            print(colored(f\"assistant: {message['content']}\\n\", role_to_color[message[\"role\"]]))\n",
        "        elif message[\"role\"] == \"function\":\n",
        "            print(colored(f\"function ({message['name']}): {message['content']}\\n\", role_to_color[message[\"role\"]]))"
      ],
      "metadata": {
        "id": "BEgN5zfI1IOS"
      },
      "execution_count": null,
      "outputs": []
    },
    {
      "cell_type": "markdown",
      "source": [
        "💫 Cases to handle from the response of the model."
      ],
      "metadata": {
        "id": "8implRus5TKF"
      }
    },
    {
      "cell_type": "code",
      "source": [
        "def handle_length_error(response):\n",
        "  print(\"Handling length error.\")\n",
        "  return\n",
        "\n",
        "\n",
        "def handle_content_filter_error(response):\n",
        "  print(\"Handling content filter error.\")\n",
        "  return\n",
        "\n",
        "\n",
        "# def handle_tool_call(response):\n",
        "#   print(\"Handling tool call.\")\n",
        "#   return\n",
        "\n",
        "\n",
        "# def handle_normal_response(response):\n",
        "#   print(\"Handling normal response.\")\n",
        "#   return\n",
        "\n",
        "\n",
        "def handle_unexpected_case(response):\n",
        "  print(\"Handling unexpected case.\")\n",
        "  return\n",
        "\n",
        "\n",
        "def handling_edge_cases():\n",
        "  # Check if the conversation was too long for the context window\n",
        "  if response['choices'][0]['message']['finish_reason'] == \"length\":\n",
        "      print(\"Error: The conversation was too long for the context window.\")\n",
        "      # Handle the error as needed, e.g., by truncating the conversation or asking for clarification\n",
        "      handle_length_error(response)\n",
        "\n",
        "\n",
        "  # Check if the model's output included copyright material (or similar)\n",
        "  if response['choices'][0]['message']['finish_reason'] == \"content_filter\":\n",
        "      print(\"Error: The content was filtered due to policy violations.\")\n",
        "      # Handle the error as needed, e.g., by modifying the request or notifying the user\n",
        "      handle_content_filter_error(response)\n",
        "\n",
        "  # # Check if the model has made a tool_call. This is the case either if the \"finish_reason\" is \"tool_calls\" or if the \"finish_reason\" is \"stop\" and our API request had forced a function call\n",
        "  # if (response['choices'][0]['message']['finish_reason'] == \"tool_calls\" or\n",
        "  #     # This handles the edge case where if we forced the model to call one of our functions, the finish_reason will actually be \"stop\" instead of \"tool_calls\"\n",
        "  #     (our_api_request_forced_a_tool_call and response['choices'][0]['message']['finish_reason'] == \"stop\")):\n",
        "  #     # Handle tool call\n",
        "  #     print(\"Model made a tool call.\")\n",
        "  #     # Your code to handle tool calls\n",
        "  #     handle_tool_call(response)\n",
        "\n",
        "  # # Else finish_reason is \"stop\", in which case the model was just responding directly to the user\n",
        "  # elif response['choices'][0]['message']['finish_reason'] == \"stop\":\n",
        "  #     # Handle the normal stop case\n",
        "  #     print(\"Model responded directly to the user.\")\n",
        "  #     # Your code to handle normal responses\n",
        "  #     handle_normal_response(response)\n",
        "\n",
        ""
      ],
      "metadata": {
        "id": "i7n8rX985SKu"
      },
      "execution_count": null,
      "outputs": []
    },
    {
      "cell_type": "code",
      "source": [
        "def main():\n",
        "  messages = []\n",
        "  messages.append({\"role\": \"system\", \"content\": \"You are a helpful assistant, determine what the user wants to download from the youtube: video, audio, playlist of videos, or playlist of audios\"})\n",
        "\n",
        "\n",
        "  while True:\n",
        "      messages.append({\"role\": \"user\", \"content\": input(\" \")})\n",
        "      response = chat_completion_request(\n",
        "        messages=messages,\n",
        "        tools=tools,\n",
        "    )\n",
        "\n",
        "      handling_edge_cases()\n",
        "\n",
        "      if  response.choices[0][\"finish_reason\"] == \"function_call\":\n",
        "          fn_name = response.choices[0].message[\"function_call\"].name\n",
        "          arguments = jsno.load(response.choices[0].message[\"function_call\"].arguments)\n",
        "\n",
        "          function = locals()[fn_name]\n",
        "          result = function(**arguments)\n",
        "\n",
        "          messages.append(\n",
        "              {\n",
        "                  \"role\": \"assistant\",\n",
        "                  \"content\": None,\n",
        "                  \"function_call\": {\n",
        "                      \"name\": fn_name,\n",
        "                      \"arguments\": arguments,\n",
        "                  },\n",
        "              }\n",
        "          )\n",
        "\n",
        "          messages.append(\n",
        "              {\n",
        "                  \"role\": \"function\",\n",
        "                  \"name\": fn_name,\n",
        "                  \"content\": f'{{\"result\": {str(result)} }}'}\n",
        "          )\n",
        "          response = chat_completion_request(\n",
        "           messages=messages,\n",
        "           tools=tools,\n",
        "        )\n",
        "          handling_edge_cases()\n",
        "          pretty_print_conversation(messages)\n",
        "          break\n",
        "\n",
        "      elif response.tool_calls is None:\n",
        "          messages.append({\"role\": \"assistant\", \"content\": response.choices[0].message.content})\n",
        "          pretty_print_conversation(messages)\n",
        "\n",
        "      else:   # Any other unexpected cases.\n",
        "        print(\"Unexpected finish_reason:\", response['choices'][0]['message']['finish_reason'])\n",
        "        # Handle unexpected cases as needed\n",
        "        handle_unexpected_case(response)\n",
        "\n",
        "\n"
      ],
      "metadata": {
        "collapsed": true,
        "id": "mjsExrSM3QeX"
      },
      "execution_count": null,
      "outputs": []
    },
    {
      "cell_type": "code",
      "source": [
        "main()"
      ],
      "metadata": {
        "id": "ROR-iFTtgGD5"
      },
      "execution_count": null,
      "outputs": []
    }
  ]
}